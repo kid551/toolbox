{
 "cells": [
  {
   "cell_type": "code",
   "execution_count": 19,
   "metadata": {
    "collapsed": false
   },
   "outputs": [],
   "source": [
    "filePath = \"fileList.txt\"\n",
    "fileContents = open(filePath, 'r').read()\n",
    "fileList = fileContents.split('\\n')\n",
    "fileList = filter(None, fileList)"
   ]
  },
  {
   "cell_type": "code",
   "execution_count": 20,
   "metadata": {
    "collapsed": false
   },
   "outputs": [
    {
     "data": {
      "text/plain": [
       "['JSAFSFrameworkContent',\n",
       " 'RFSMFAQ',\n",
       " 'SAFSComponentRecognition',\n",
       " 'SAFSEngineDetails',\n",
       " 'SAFSFramework',\n",
       " 'SAFSImageBasedRecognition',\n",
       " 'SAFSIOSDevelopersGuide',\n",
       " 'SAFSReferenceKey',\n",
       " 'SAFSRobotiumDevelopment',\n",
       " 'TestDesignGuidelines',\n",
       " 'TFSMFAQ',\n",
       " 'Using Custom Extensions',\n",
       " 'UsingAutoIT',\n",
       " 'UsingCounters',\n",
       " 'UsingCucumberJVM',\n",
       " 'UsingCustomSAFSExtensions',\n",
       " 'UsingJSAFS',\n",
       " 'UsingJSAFSAutoConfiguration',\n",
       " 'UsingJSAFSProjectJARS',\n",
       " 'UsingMultiLogResults',\n",
       " 'UsingSAFSDRIVER',\n",
       " 'UsingSAFSEmbedded',\n",
       " 'UsingSAFSMonitor',\n",
       " 'UsingSAFSRestTesting',\n",
       " 'UsingSAFSTCPMessenger',\n",
       " 'UsingDDVariables',\n",
       " 'UsingFlowControl',\n",
       " 'SAFSQuickStart',\n",
       " 'CreateRFTAppMaps',\n",
       " 'UsingCustomExtensions',\n",
       " 'UsingRobotJ',\n",
       " 'SQABasicLibraries',\n",
       " 'UsingRFTObjectMaps',\n",
       " 'DDEngineSetup',\n",
       " 'RRAFS_Details_Index',\n",
       " 'CreateAppMap']"
      ]
     },
     "execution_count": 20,
     "metadata": {},
     "output_type": "execute_result"
    }
   ],
   "source": [
    "fileList"
   ]
  },
  {
   "cell_type": "code",
   "execution_count": 22,
   "metadata": {
    "collapsed": true
   },
   "outputs": [],
   "source": [
    "import os\n",
    "import shutil\n",
    "\n",
    "copiedPathPre = \"<file's prefix path>\"\n",
    "for fE in fileList:\n",
    "    copyFile = copiedPathPre + \"\\\\\" + fE + '.htm'\n",
    "    if (os.path.isfile(copyFile)):\n",
    "        shutil.copy(copyFile, '.')"
   ]
  }
 ],
 "metadata": {
  "anaconda-cloud": {},
  "kernelspec": {
   "display_name": "Python [Root]",
   "language": "python",
   "name": "Python [Root]"
  },
  "language_info": {
   "codemirror_mode": {
    "name": "ipython",
    "version": 2
   },
   "file_extension": ".py",
   "mimetype": "text/x-python",
   "name": "python",
   "nbconvert_exporter": "python",
   "pygments_lexer": "ipython2",
   "version": "2.7.12"
  }
 },
 "nbformat": 4,
 "nbformat_minor": 0
}
